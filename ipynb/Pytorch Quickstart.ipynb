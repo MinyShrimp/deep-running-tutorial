{
 "cells": [
  {
   "cell_type": "code",
   "execution_count": 1,
   "id": "088b49ef",
   "metadata": {},
   "outputs": [],
   "source": [
    "import torch\n",
    "from torch import nn\n",
    "from torch.utils.data import DataLoader\n",
    "from torchvision import datasets\n",
    "from torchvision.transforms import ToTensor"
   ]
  },
  {
   "cell_type": "code",
   "execution_count": 2,
   "id": "9bcda833",
   "metadata": {},
   "outputs": [],
   "source": [
    "training_data = datasets.FashionMNIST(\n",
    "    root='data',\n",
    "    train=True,\n",
    "    download=True,\n",
    "    transform=ToTensor()\n",
    ")\n",
    "\n",
    "test_data = datasets.FashionMNIST(\n",
    "    root='data',\n",
    "    train=False,\n",
    "    download=True,\n",
    "    transform=ToTensor()\n",
    ")"
   ]
  },
  {
   "cell_type": "code",
   "execution_count": 3,
   "id": "6d43151e",
   "metadata": {},
   "outputs": [
    {
     "name": "stdout",
     "output_type": "stream",
     "text": [
      "Shape of x [N, C, H, W]: torch.Size([64, 1, 28, 28])\n",
      "Shape of y: torch.Size([64]) torch.int64\n"
     ]
    }
   ],
   "source": [
    "batch_size = 64\n",
    "\n",
    "train_dataloader = DataLoader(training_data, batch_size=batch_size)\n",
    "test_dataloader = DataLoader(test_data, batch_size=batch_size)\n",
    "\n",
    "for x, y in test_dataloader:\n",
    "    print(f\"Shape of x [N, C, H, W]: {x.shape}\")\n",
    "    print(f\"Shape of y: {y.shape} {y.dtype}\")\n",
    "    break"
   ]
  },
  {
   "cell_type": "code",
   "execution_count": 4,
   "id": "58b78bed",
   "metadata": {},
   "outputs": [
    {
     "name": "stdout",
     "output_type": "stream",
     "text": [
      "NeuralNetwork(\n",
      "  (flatten): Flatten(start_dim=1, end_dim=-1)\n",
      "  (linear_relu_stack): Sequential(\n",
      "    (0): Linear(in_features=784, out_features=512, bias=True)\n",
      "    (1): ReLU()\n",
      "    (2): Linear(in_features=512, out_features=512, bias=True)\n",
      "    (3): ReLU()\n",
      "    (4): Linear(in_features=512, out_features=10, bias=True)\n",
      "  )\n",
      ")\n"
     ]
    }
   ],
   "source": [
    "class NeuralNetwork(nn.Module):\n",
    "    def __init__(self):\n",
    "        super().__init__()\n",
    "        self.flatten = nn.Flatten()\n",
    "        self.linear_relu_stack = nn.Sequential(\n",
    "            nn.Linear(28 * 28, 512),\n",
    "            nn.ReLU(),\n",
    "            nn.Linear(512, 512),\n",
    "            nn.ReLU(),\n",
    "            nn.Linear(512, 10)\n",
    "        )\n",
    "\n",
    "    def forward(self, x):\n",
    "        x = self.flatten(x)\n",
    "        logits = self.linear_relu_stack(x)\n",
    "        return logits\n",
    "\n",
    "\n",
    "mps_device = torch.device(\"mps\")\n",
    "model = NeuralNetwork().to(mps_device)\n",
    "print(model)"
   ]
  },
  {
   "cell_type": "code",
   "execution_count": 5,
   "id": "f655c646",
   "metadata": {},
   "outputs": [],
   "source": [
    "# 손실 함수\n",
    "loss_fn = nn.CrossEntropyLoss()\n",
    "\n",
    "# 옵티마이저\n",
    "optimizer = torch.optim.SGD(model.parameters(), lr=1e-3)"
   ]
  },
  {
   "cell_type": "code",
   "execution_count": 6,
   "id": "d7cbd9ed",
   "metadata": {},
   "outputs": [],
   "source": [
    "def train(dataloader, model, loss_fn, optimizer):\n",
    "    size = len(dataloader.dataset)\n",
    "    for batch, (X, y) in enumerate(dataloader):\n",
    "        X, y = X.to(mps_device), y.to(mps_device)\n",
    "\n",
    "        # 예측 오류 계산\n",
    "        pred = model(X)\n",
    "        loss = loss_fn(pred, y)\n",
    "\n",
    "        # 역전파\n",
    "        optimizer.zero_grad()\n",
    "        loss.backward()\n",
    "        optimizer.step()\n",
    "\n",
    "        if batch % 100 == 0:\n",
    "            loss, current = loss.item(), batch * len(X)\n",
    "            print(f\"loss: {loss:>7f}  [{current:>5d}/{size:>5d}]\")\n",
    "            \n",
    "def test(dataloader, model, loss_fn):\n",
    "    size = len(dataloader.dataset)\n",
    "    num_batches = len(dataloader)\n",
    "    model.eval()\n",
    "    test_loss, correct = 0, 0\n",
    "    with torch.no_grad():\n",
    "        for X, y in dataloader:\n",
    "            X, y = X.to(mps_device), y.to(mps_device)\n",
    "            pred = model(X)\n",
    "            test_loss += loss_fn(pred, y).item()\n",
    "            correct += (pred.argmax(1) == y).type(torch.float).sum().item()\n",
    "    test_loss /= num_batches\n",
    "    correct /= size\n",
    "    print(f\"Test Error: \\n Accuracy: {(100*correct):>0.1f}%, Avg loss: {test_loss:>8f} \\n\")"
   ]
  },
  {
   "cell_type": "code",
   "execution_count": 7,
   "id": "0c887a15",
   "metadata": {},
   "outputs": [
    {
     "name": "stdout",
     "output_type": "stream",
     "text": [
      "Epoch 1\n",
      "-------------------------------\n",
      "loss: 2.295668  [    0/60000]\n",
      "loss: 2.288838  [ 6400/60000]\n",
      "loss: 2.267808  [12800/60000]\n",
      "loss: 2.268497  [19200/60000]\n",
      "loss: 2.246609  [25600/60000]\n",
      "loss: 2.216679  [32000/60000]\n",
      "loss: 2.228925  [38400/60000]\n",
      "loss: 2.191382  [44800/60000]\n",
      "loss: 2.191693  [51200/60000]\n",
      "loss: 2.160008  [57600/60000]\n",
      "Test Error: \n",
      " Accuracy: 0.0%, Avg loss: 2.151837 \n",
      "\n",
      "Epoch 2\n",
      "-------------------------------\n",
      "loss: 2.160744  [    0/60000]\n",
      "loss: 2.153554  [ 6400/60000]\n",
      "loss: 2.090655  [12800/60000]\n",
      "loss: 2.116695  [19200/60000]\n",
      "loss: 2.067224  [25600/60000]\n",
      "loss: 2.003090  [32000/60000]\n",
      "loss: 2.038021  [38400/60000]\n",
      "loss: 1.954048  [44800/60000]\n",
      "loss: 1.956300  [51200/60000]\n",
      "loss: 1.895095  [57600/60000]\n",
      "Test Error: \n",
      " Accuracy: 0.0%, Avg loss: 1.884485 \n",
      "\n",
      "Epoch 3\n",
      "-------------------------------\n",
      "loss: 1.911214  [    0/60000]\n",
      "loss: 1.887918  [ 6400/60000]\n",
      "loss: 1.762321  [12800/60000]\n",
      "loss: 1.820664  [19200/60000]\n",
      "loss: 1.702464  [25600/60000]\n",
      "loss: 1.650692  [32000/60000]\n",
      "loss: 1.681898  [38400/60000]\n",
      "loss: 1.571052  [44800/60000]\n",
      "loss: 1.592573  [51200/60000]\n",
      "loss: 1.495048  [57600/60000]\n",
      "Test Error: \n",
      " Accuracy: 0.0%, Avg loss: 1.506498 \n",
      "\n",
      "Epoch 4\n",
      "-------------------------------\n",
      "loss: 1.568860  [    0/60000]\n",
      "loss: 1.538615  [ 6400/60000]\n",
      "loss: 1.378972  [12800/60000]\n",
      "loss: 1.469980  [19200/60000]\n",
      "loss: 1.339887  [25600/60000]\n",
      "loss: 1.337689  [32000/60000]\n",
      "loss: 1.356096  [38400/60000]\n",
      "loss: 1.269081  [44800/60000]\n",
      "loss: 1.304858  [51200/60000]\n",
      "loss: 1.205956  [57600/60000]\n",
      "Test Error: \n",
      " Accuracy: 0.0%, Avg loss: 1.234797 \n",
      "\n",
      "Epoch 5\n",
      "-------------------------------\n",
      "loss: 1.311690  [    0/60000]\n",
      "loss: 1.296229  [ 6400/60000]\n",
      "loss: 1.123099  [12800/60000]\n",
      "loss: 1.243994  [19200/60000]\n",
      "loss: 1.115194  [25600/60000]\n",
      "loss: 1.142111  [32000/60000]\n",
      "loss: 1.166363  [38400/60000]\n",
      "loss: 1.090847  [44800/60000]\n",
      "loss: 1.131872  [51200/60000]\n",
      "loss: 1.047815  [57600/60000]\n",
      "Test Error: \n",
      " Accuracy: 0.0%, Avg loss: 1.073434 \n",
      "\n",
      "Done!\n"
     ]
    }
   ],
   "source": [
    "epochs = 5\n",
    "for t in range(epochs):\n",
    "    print(f\"Epoch {t+1}\\n-------------------------------\")\n",
    "    train(train_dataloader, model, loss_fn, optimizer)\n",
    "    test(test_dataloader, model, loss_fn)\n",
    "print(\"Done!\")"
   ]
  },
  {
   "cell_type": "code",
   "execution_count": 8,
   "id": "41889f11",
   "metadata": {},
   "outputs": [
    {
     "name": "stdout",
     "output_type": "stream",
     "text": [
      "Saved PyTorch Model State to model.pth\n"
     ]
    }
   ],
   "source": [
    "torch.save(model.state_dict(), \"model.pth\")\n",
    "print(\"Saved PyTorch Model State to model.pth\")"
   ]
  },
  {
   "cell_type": "code",
   "execution_count": 9,
   "id": "3c6b1ef4",
   "metadata": {},
   "outputs": [
    {
     "data": {
      "text/plain": [
       "<All keys matched successfully>"
      ]
     },
     "execution_count": 9,
     "metadata": {},
     "output_type": "execute_result"
    }
   ],
   "source": [
    "model = NeuralNetwork()\n",
    "model.load_state_dict(torch.load(\"model.pth\"))"
   ]
  },
  {
   "cell_type": "code",
   "execution_count": 10,
   "id": "726bbb77",
   "metadata": {},
   "outputs": [
    {
     "name": "stdout",
     "output_type": "stream",
     "text": [
      "Predicted: \"Ankle boot\", Actual: \"Ankle boot\"\n"
     ]
    }
   ],
   "source": [
    "classes = [\n",
    "    \"T-shirt/top\",\n",
    "    \"Trouser\",\n",
    "    \"Pullover\",\n",
    "    \"Dress\",\n",
    "    \"Coat\",\n",
    "    \"Sandal\",\n",
    "    \"Shirt\",\n",
    "    \"Sneaker\",\n",
    "    \"Bag\",\n",
    "    \"Ankle boot\",\n",
    "]\n",
    "\n",
    "model.eval()\n",
    "x, y = test_data[0][0], test_data[0][1]\n",
    "with torch.no_grad():\n",
    "    pred = model(x)\n",
    "    predicted, actual = classes[pred[0].argmax(0)], classes[y]\n",
    "    print(f'Predicted: \"{predicted}\", Actual: \"{actual}\"')"
   ]
  }
 ],
 "metadata": {
  "kernelspec": {
   "display_name": "Deep Running Playground",
   "language": "python",
   "name": "deep-running-tutorial"
  },
  "language_info": {
   "codemirror_mode": {
    "name": "ipython",
    "version": 3
   },
   "file_extension": ".py",
   "mimetype": "text/x-python",
   "name": "python",
   "nbconvert_exporter": "python",
   "pygments_lexer": "ipython3",
   "version": "3.10.10"
  }
 },
 "nbformat": 4,
 "nbformat_minor": 5
}
